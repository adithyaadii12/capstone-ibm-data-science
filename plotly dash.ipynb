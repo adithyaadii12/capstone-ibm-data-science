{
  "nbformat": 4,
  "nbformat_minor": 0,
  "metadata": {
    "colab": {
      "provenance": []
    },
    "kernelspec": {
      "name": "python3",
      "display_name": "Python 3"
    },
    "language_info": {
      "name": "python"
    }
  },
  "cells": [
    {
      "cell_type": "code",
      "execution_count": null,
      "metadata": {
        "colab": {
          "base_uri": "https://localhost:8080/"
        },
        "collapsed": true,
        "id": "xpojZ6w-Fcgc",
        "outputId": "673077b7-0075-483f-ac69-b30db8a170ac"
      },
      "outputs": [
        {
          "output_type": "stream",
          "name": "stdout",
          "text": [
            "Requirement already satisfied: pandas in /usr/local/lib/python3.10/dist-packages (2.1.4)\n",
            "Collecting dash\n",
            "  Downloading dash-2.17.1-py3-none-any.whl.metadata (10 kB)\n",
            "Requirement already satisfied: numpy<2,>=1.22.4 in /usr/local/lib/python3.10/dist-packages (from pandas) (1.26.4)\n",
            "Requirement already satisfied: python-dateutil>=2.8.2 in /usr/local/lib/python3.10/dist-packages (from pandas) (2.8.2)\n",
            "Requirement already satisfied: pytz>=2020.1 in /usr/local/lib/python3.10/dist-packages (from pandas) (2024.1)\n",
            "Requirement already satisfied: tzdata>=2022.1 in /usr/local/lib/python3.10/dist-packages (from pandas) (2024.1)\n",
            "Requirement already satisfied: Flask<3.1,>=1.0.4 in /usr/local/lib/python3.10/dist-packages (from dash) (2.2.5)\n",
            "Requirement already satisfied: Werkzeug<3.1 in /usr/local/lib/python3.10/dist-packages (from dash) (3.0.3)\n",
            "Requirement already satisfied: plotly>=5.0.0 in /usr/local/lib/python3.10/dist-packages (from dash) (5.15.0)\n",
            "Collecting dash-html-components==2.0.0 (from dash)\n",
            "  Downloading dash_html_components-2.0.0-py3-none-any.whl.metadata (3.8 kB)\n",
            "Collecting dash-core-components==2.0.0 (from dash)\n",
            "  Downloading dash_core_components-2.0.0-py3-none-any.whl.metadata (2.9 kB)\n",
            "Collecting dash-table==5.0.0 (from dash)\n",
            "  Downloading dash_table-5.0.0-py3-none-any.whl.metadata (2.4 kB)\n",
            "Requirement already satisfied: importlib-metadata in /usr/local/lib/python3.10/dist-packages (from dash) (8.2.0)\n",
            "Requirement already satisfied: typing-extensions>=4.1.1 in /usr/local/lib/python3.10/dist-packages (from dash) (4.12.2)\n",
            "Requirement already satisfied: requests in /usr/local/lib/python3.10/dist-packages (from dash) (2.32.3)\n",
            "Collecting retrying (from dash)\n",
            "  Downloading retrying-1.3.4-py3-none-any.whl.metadata (6.9 kB)\n",
            "Requirement already satisfied: nest-asyncio in /usr/local/lib/python3.10/dist-packages (from dash) (1.6.0)\n",
            "Requirement already satisfied: setuptools in /usr/local/lib/python3.10/dist-packages (from dash) (71.0.4)\n",
            "Requirement already satisfied: Jinja2>=3.0 in /usr/local/lib/python3.10/dist-packages (from Flask<3.1,>=1.0.4->dash) (3.1.4)\n",
            "Requirement already satisfied: itsdangerous>=2.0 in /usr/local/lib/python3.10/dist-packages (from Flask<3.1,>=1.0.4->dash) (2.2.0)\n",
            "Requirement already satisfied: click>=8.0 in /usr/local/lib/python3.10/dist-packages (from Flask<3.1,>=1.0.4->dash) (8.1.7)\n",
            "Requirement already satisfied: tenacity>=6.2.0 in /usr/local/lib/python3.10/dist-packages (from plotly>=5.0.0->dash) (9.0.0)\n",
            "Requirement already satisfied: packaging in /usr/local/lib/python3.10/dist-packages (from plotly>=5.0.0->dash) (24.1)\n",
            "Requirement already satisfied: six>=1.5 in /usr/local/lib/python3.10/dist-packages (from python-dateutil>=2.8.2->pandas) (1.16.0)\n",
            "Requirement already satisfied: MarkupSafe>=2.1.1 in /usr/local/lib/python3.10/dist-packages (from Werkzeug<3.1->dash) (2.1.5)\n",
            "Requirement already satisfied: zipp>=0.5 in /usr/local/lib/python3.10/dist-packages (from importlib-metadata->dash) (3.19.2)\n",
            "Requirement already satisfied: charset-normalizer<4,>=2 in /usr/local/lib/python3.10/dist-packages (from requests->dash) (3.3.2)\n",
            "Requirement already satisfied: idna<4,>=2.5 in /usr/local/lib/python3.10/dist-packages (from requests->dash) (3.7)\n",
            "Requirement already satisfied: urllib3<3,>=1.21.1 in /usr/local/lib/python3.10/dist-packages (from requests->dash) (2.0.7)\n",
            "Requirement already satisfied: certifi>=2017.4.17 in /usr/local/lib/python3.10/dist-packages (from requests->dash) (2024.7.4)\n",
            "Downloading dash-2.17.1-py3-none-any.whl (7.5 MB)\n",
            "\u001b[2K   \u001b[90m━━━━━━━━━━━━━━━━━━━━━━━━━━━━━━━━━━━━━━━━\u001b[0m \u001b[32m7.5/7.5 MB\u001b[0m \u001b[31m62.8 MB/s\u001b[0m eta \u001b[36m0:00:00\u001b[0m\n",
            "\u001b[?25hDownloading dash_core_components-2.0.0-py3-none-any.whl (3.8 kB)\n",
            "Downloading dash_html_components-2.0.0-py3-none-any.whl (4.1 kB)\n",
            "Downloading dash_table-5.0.0-py3-none-any.whl (3.9 kB)\n",
            "Downloading retrying-1.3.4-py3-none-any.whl (11 kB)\n",
            "Installing collected packages: dash-table, dash-html-components, dash-core-components, retrying, dash\n",
            "Successfully installed dash-2.17.1 dash-core-components-2.0.0 dash-html-components-2.0.0 dash-table-5.0.0 retrying-1.3.4\n"
          ]
        }
      ],
      "source": [
        "!python3 -m pip install pandas dash"
      ]
    },
    {
      "cell_type": "code",
      "source": [
        "!wget \"https://cf-courses-data.s3.us.cloud-object-storage.appdomain.cloud/IBM-DS0321EN-SkillsNetwork/datasets/spacex_launch_dash.csv\""
      ],
      "metadata": {
        "colab": {
          "base_uri": "https://localhost:8080/"
        },
        "collapsed": true,
        "id": "43oxvT1xFyyL",
        "outputId": "35270a6b-b92b-403d-ef64-d219f14a1060"
      },
      "execution_count": null,
      "outputs": [
        {
          "output_type": "stream",
          "name": "stdout",
          "text": [
            "--2024-08-10 15:05:05--  https://cf-courses-data.s3.us.cloud-object-storage.appdomain.cloud/IBM-DS0321EN-SkillsNetwork/datasets/spacex_launch_dash.csv\n",
            "Resolving cf-courses-data.s3.us.cloud-object-storage.appdomain.cloud (cf-courses-data.s3.us.cloud-object-storage.appdomain.cloud)... 169.63.118.104\n",
            "Connecting to cf-courses-data.s3.us.cloud-object-storage.appdomain.cloud (cf-courses-data.s3.us.cloud-object-storage.appdomain.cloud)|169.63.118.104|:443... connected.\n",
            "HTTP request sent, awaiting response... 200 OK\n",
            "Length: 2476 (2.4K) [text/csv]\n",
            "Saving to: ‘spacex_launch_dash.csv’\n",
            "\n",
            "spacex_launch_dash. 100%[===================>]   2.42K  --.-KB/s    in 0s      \n",
            "\n",
            "2024-08-10 15:05:06 (565 MB/s) - ‘spacex_launch_dash.csv’ saved [2476/2476]\n",
            "\n"
          ]
        }
      ]
    },
    {
      "cell_type": "code",
      "source": [
        "!wget \"https://cf-courses-data.s3.us.cloud-object-storage.appdomain.cloud/IBM-DS0321EN-SkillsNetwork/labs/module_3/spacex_dash_app.py\""
      ],
      "metadata": {
        "colab": {
          "base_uri": "https://localhost:8080/"
        },
        "collapsed": true,
        "id": "2rAejeNyFzrp",
        "outputId": "95d7b91c-645f-489f-81aa-fa3b19bb7b54"
      },
      "execution_count": null,
      "outputs": [
        {
          "output_type": "stream",
          "name": "stdout",
          "text": [
            "--2024-08-10 15:05:13--  https://cf-courses-data.s3.us.cloud-object-storage.appdomain.cloud/IBM-DS0321EN-SkillsNetwork/labs/module_3/spacex_dash_app.py\n",
            "Resolving cf-courses-data.s3.us.cloud-object-storage.appdomain.cloud (cf-courses-data.s3.us.cloud-object-storage.appdomain.cloud)... 169.63.118.104\n",
            "Connecting to cf-courses-data.s3.us.cloud-object-storage.appdomain.cloud (cf-courses-data.s3.us.cloud-object-storage.appdomain.cloud)|169.63.118.104|:443... connected.\n",
            "HTTP request sent, awaiting response... 200 OK\n",
            "Length: 2110 (2.1K) [text/x-python]\n",
            "Saving to: ‘spacex_dash_app.py’\n",
            "\n",
            "spacex_dash_app.py  100%[===================>]   2.06K  --.-KB/s    in 0s      \n",
            "\n",
            "2024-08-10 15:05:14 (993 MB/s) - ‘spacex_dash_app.py’ saved [2110/2110]\n",
            "\n"
          ]
        }
      ]
    },
    {
      "cell_type": "code",
      "source": [
        "!python3 spacex_dash_app.py"
      ],
      "metadata": {
        "colab": {
          "base_uri": "https://localhost:8080/"
        },
        "collapsed": true,
        "id": "fz48arzoGGEy",
        "outputId": "0ea0af9b-e592-48d8-8b1c-af2cdccaa466"
      },
      "execution_count": null,
      "outputs": [
        {
          "output_type": "stream",
          "name": "stdout",
          "text": [
            "/content/spacex_dash_app.py:4: UserWarning: \n",
            "The dash_html_components package is deprecated. Please replace\n",
            "`import dash_html_components as html` with `from dash import html`\n",
            "  import dash_html_components as html\n",
            "/content/spacex_dash_app.py:5: UserWarning: \n",
            "The dash_core_components package is deprecated. Please replace\n",
            "`import dash_core_components as dcc` with `from dash import dcc`\n",
            "  import dash_core_components as dcc\n",
            "Dash is running on http://127.0.0.1:8050/\n",
            "\n",
            " * Serving Flask app 'spacex_dash_app'\n",
            " * Debug mode: off\n",
            "\u001b[31m\u001b[1mWARNING: This is a development server. Do not use it in a production deployment. Use a production WSGI server instead.\u001b[0m\n",
            " * Running on http://127.0.0.1:8050\n",
            "\u001b[33mPress CTRL+C to quit\u001b[0m\n",
            "^C\n"
          ]
        }
      ]
    },
    {
      "cell_type": "code",
      "source": [
        "import pandas as pd\n",
        "import dash\n",
        "from dash import html\n",
        "from dash import dcc\n",
        "from dash.dependencies import Input, Output\n",
        "import plotly.express as px"
      ],
      "metadata": {
        "id": "ffuyfFtSHKyl"
      },
      "execution_count": null,
      "outputs": []
    },
    {
      "cell_type": "code",
      "source": [
        "# Read the airline data into pandas dataframe\n",
        "spacex_df = pd.read_csv(\"spacex_launch_dash.csv\")\n",
        "max_payload = spacex_df['Payload Mass (kg)'].max()\n",
        "min_payload = spacex_df['Payload Mass (kg)'].min()\n",
        "\n",
        "# Dropdown list(s)\n",
        "launch_site_list = []\n",
        "launch_site_list.append('ALL')\n",
        "for index, row in spacex_df['Launch Site'].value_counts().to_frame().iterrows():\n",
        "    launch_site_list.append(row.name)\n",
        "\n",
        "# Create a dash application\n",
        "app = dash.Dash(__name__)\n",
        "\n",
        "# Create an app layout\n",
        "app.layout = html.Div(children=[html.H1('SpaceX Launch Records Dashboard',\n",
        "                                        style={'textAlign': 'center', 'color': '#503D36',\n",
        "                                               'font-size': 40}),\n",
        "                                # TASK 1: Add a dropdown list to enable Launch Site selection\n",
        "                                # The default select value is for ALL sites\n",
        "                                # dcc.Dropdown(id='site-dropdown',...)\n",
        "                                dcc.Dropdown(id='site-dropdown',\n",
        "                                    options=[{'label': i, 'value': i} for i in launch_site_list],\n",
        "                                    style={'width':'100%', 'padding':'3px', 'font-size': '20px', 'text-align-last': 'left'},\n",
        "                                    value='ALL'),\n",
        "                                html.Br(),\n",
        "\n",
        "                                # TASK 2: Add a pie chart to show the total successful launches count for all sites\n",
        "                                # If a specific launch site was selected, show the Success vs. Failed counts for the site\n",
        "                                html.Div(dcc.Graph(id='success-pie-chart')),\n",
        "                                html.Br(),\n",
        "\n",
        "                                html.P(\"Payload range (Kg):\"),\n",
        "                                # TASK 3: Add a slider to select payload range\n",
        "                                #dcc.RangeSlider(id='payload-slider',...)\n",
        "                                dcc.RangeSlider(id='payload-slider', min=min_payload, max=max_payload, step=1000, value=[min_payload, max_payload]),\n",
        "\n",
        "                                # TASK 4: Add a scatter chart to show the correlation between payload and launch success\n",
        "                                html.Div(dcc.Graph(id='success-payload-scatter-chart')),\n",
        "                                ])\n",
        "\n",
        "# TASK 2:\n",
        "# Add a callback function for `site-dropdown` as input, `success-pie-chart` as output\n",
        "@app.callback(Output(component_id='success-pie-chart', component_property='figure'),\n",
        "              Input(component_id='site-dropdown', component_property='value'))\n",
        "def get_pie_chart(entered_site):\n",
        "    if entered_site == 'ALL':\n",
        "        filtered_df = spacex_df[['Launch Site', 'class']].groupby(by=['Launch Site'], as_index=False).mean()\n",
        "        fig = px.pie(filtered_df, values='class',\n",
        "                     names='Launch Site',\n",
        "                     title='Total Success Launches by Site')\n",
        "        return fig\n",
        "    else:\n",
        "        # return the outcomes piechart for a selected site\n",
        "        filtered_df = spacex_df[['Launch Site', 'class']][spacex_df['Launch Site'] == entered_site]\n",
        "        mean = filtered_df.groupby(by='Launch Site', as_index=False).mean()\n",
        "        means = {}\n",
        "        means[1] = mean['class'][0]\n",
        "        means[0] = 1 - means[1]\n",
        "        fig = px.pie(values=means.values(), names=means.keys(),\n",
        "                     title=f'Total Success Launches by Site: {entered_site}')\n",
        "        return fig\n",
        "\n",
        "# TASK 4:\n",
        "# Add a callback function for `site-dropdown` and `payload-slider` as inputs, `success-payload-scatter-chart` as output\n",
        "@app.callback(Output(component_id='success-payload-scatter-chart', component_property='figure'),\n",
        "              [Input(component_id='site-dropdown', component_property='value'),\n",
        "               Input(component_id=\"payload-slider\", component_property=\"value\")])\n",
        "\n",
        "def get_scatter_plot(entered_site, payload_range):\n",
        "    # print('min:', payload_range[0], '\\tmax:', payload_range[1])\n",
        "    # print(entered_site)\n",
        "    if entered_site == 'ALL':\n",
        "        payload_filtered_df = spacex_df[['Payload Mass (kg)', 'Booster Version Category', 'Launch Site', 'class']][(spacex_df['Payload Mass (kg)'] <= payload_range[1]) & (spacex_df['Payload Mass (kg)'] >= payload_range[0])]\n",
        "    else:\n",
        "        payload_filtered_df = spacex_df[['Payload Mass (kg)', 'Booster Version Category', 'Launch Site', 'class']][(spacex_df['Payload Mass (kg)'] <= payload_range[1]) &\n",
        "                                                                                                                   (spacex_df['Payload Mass (kg)'] >= payload_range[0]) &\n",
        "                                                                                                                   (spacex_df['Launch Site'] == entered_site)]\n",
        "    fig = px.scatter(data_frame=payload_filtered_df, x='Payload Mass (kg)', y='class', color='Booster Version Category')\n",
        "    return fig\n",
        "\n",
        "# Run the app\n",
        "if __name__ == '__main__':\n",
        "    app.run_server(debug=True)\n",
        "\n",
        "\n",
        "# Finding Insights Visually\n",
        "# Now with the dashboard completed, you should be able to use it to analyze SpaceX launch data, and answer the following questions:\n",
        "#\n",
        "# Which site has the largest successful launches?\n",
        "### KSC LC-39A\n",
        "# Which site has the highest launch success rate?\n",
        "### KSC LC-39A\n",
        "# Which payload range(s) has the highest launch success rate?\n",
        "### 2000 - 4000\n",
        "# Which payload range(s) has the lowest launch success rate?\n",
        "### 6000 - 9000\n",
        "# Which F9 Booster version (v1.0, v1.1, FT, B4, B5, etc.) has the highest launch success rate?\n",
        "### B5"
      ],
      "metadata": {
        "colab": {
          "base_uri": "https://localhost:8080/",
          "height": 671
        },
        "id": "pIjmMzGBHRFX",
        "outputId": "95fc0451-4867-4776-f6a3-c97c622c43d0"
      },
      "execution_count": null,
      "outputs": [
        {
          "output_type": "display_data",
          "data": {
            "text/plain": [
              "<IPython.core.display.Javascript object>"
            ],
            "application/javascript": [
              "(async (port, path, width, height, cache, element) => {\n",
              "    if (!google.colab.kernel.accessAllowed && !cache) {\n",
              "      return;\n",
              "    }\n",
              "    element.appendChild(document.createTextNode(''));\n",
              "    const url = await google.colab.kernel.proxyPort(port, {cache});\n",
              "    const iframe = document.createElement('iframe');\n",
              "    iframe.src = new URL(path, url).toString();\n",
              "    iframe.height = height;\n",
              "    iframe.width = width;\n",
              "    iframe.style.border = 0;\n",
              "    iframe.allow = [\n",
              "        'accelerometer',\n",
              "        'autoplay',\n",
              "        'camera',\n",
              "        'clipboard-read',\n",
              "        'clipboard-write',\n",
              "        'gyroscope',\n",
              "        'magnetometer',\n",
              "        'microphone',\n",
              "        'serial',\n",
              "        'usb',\n",
              "        'xr-spatial-tracking',\n",
              "    ].join('; ');\n",
              "    element.appendChild(iframe);\n",
              "  })(8050, \"/\", \"100%\", 650, false, window.element)"
            ]
          },
          "metadata": {}
        }
      ]
    },
    {
      "cell_type": "code",
      "source": [
        "spacex_df = pd.read_csv(\"spacex_launch_dash.csv\")\n",
        "max_payload = spacex_df['Payload Mass (kg)'].max()\n",
        "min_payload = spacex_df['Payload Mass (kg)'].min()\n",
        "\n",
        "launch_sites = []\n",
        "launch_sites.append({'label': 'All Sites', 'value': 'All Sites'})\n",
        "all_launch_sites = spacex_df['Launch Site'].unique().tolist()\n",
        "for launch_site in all_launch_sites:\n",
        "    launch_sites.append({'label': launch_site, 'value': launch_site})\n",
        "\n",
        "# Create a dash application\n",
        "app = dash.Dash(__name__)\n",
        "\n",
        "# Create an app layout\n",
        "app.layout = html.Div(children=[html.H1('SpaceX Launch Records Dashboard',\n",
        "                                        style={'textAlign': 'center', 'color': '#503D36',\n",
        "                                               'font-size': 40}),\n",
        "                                # TASK 1: Add a dropdown list to enable Launch Site selection\n",
        "                                # The default select value is for ALL sites\n",
        "                                # dcc.Dropdown(id='site-dropdown',...)\n",
        "                                html.Div([\n",
        "                                    dcc.Dropdown(\n",
        "                                        id = 'site-dropdown',\n",
        "                                        options = launch_sites,\n",
        "                                        placeholder = 'Select a Launch Site here',\n",
        "                                        searchable = True ,\n",
        "                                        clearable = False,\n",
        "                                        value = 'All Sites'\n",
        "                                        ),]),\n",
        "                                html.Br(),\n",
        "\n",
        "                                # TASK 2: Add a pie chart to show the total successful launches count for all sites\n",
        "                                # If a specific launch site was selected, show the Success vs. Failed counts for the site\n",
        "                                html.Div(dcc.Graph(id='success-pie-chart')),\n",
        "                                html.Br(),\n",
        "\n",
        "                                html.P(\"Payload range (Kg):\"),\n",
        "                                # TASK 3: Add a slider to select payload range\n",
        "                                #dcc.RangeSlider(id='payload-slider',...)\n",
        "                                html.Div([\n",
        "                                    dcc.RangeSlider(\n",
        "                                        id = 'payload_slider',\n",
        "                                        min = 0,\n",
        "                                        max = 10000,\n",
        "                                        step = 1000,\n",
        "                                        marks = {\n",
        "                                            0: {'label': '0 Kg', 'style': {'color': '#77b0b1'}},\n",
        "                                            1000: {'label': '1000 Kg'},\n",
        "                                            2000: {'label': '2000 Kg'},\n",
        "                                            3000: {'label': '3000 Kg'},\n",
        "                                            4000: {'label': '4000 Kg'},\n",
        "                                            5000: {'label': '5000 Kg'},\n",
        "                                            6000: {'label': '6000 Kg'},\n",
        "                                            7000: {'label': '7000 Kg'},\n",
        "                                            8000: {'label': '8000 Kg'},\n",
        "                                            9000: {'label': '9000 Kg'},\n",
        "                                            10000: {'label': '10000 Kg', 'style': {'color': '#f50'}},\n",
        "                                            },\n",
        "                                            value = [min_payload,max_payload]),\n",
        "                                            ]),\n",
        "\n",
        "                                # TASK 4: Add a scatter chart to show the correlation between payload and launch success\n",
        "                                html.Div(dcc.Graph(id='success-payload-scatter-chart')),\n",
        "                                ])\n",
        "\n",
        "# TASK 2:\n",
        "# Add a callback function for `site-dropdown` as input, `success-pie-chart` as output\n",
        "@app.callback(\n",
        "     Output(component_id = 'success-pie-chart', component_property = 'figure'),\n",
        "     [Input(component_id = 'site-dropdown', component_property = 'value')]\n",
        ")\n",
        "def update_piegraph(site_dropdown):\n",
        "    if (site_dropdown == 'All Sites' or site_dropdown == 'None'):\n",
        "        data  = spacex_df[spacex_df['class'] == 1]\n",
        "        fig = px.pie(\n",
        "                data,\n",
        "                names = 'Launch Site',\n",
        "                title = 'Total Success Launches by All Sites',\n",
        "            )\n",
        "    else:\n",
        "        data  = spacex_df.loc[spacex_df['Launch Site'] == site_dropdown]\n",
        "        fig = px.pie(\n",
        "                data,\n",
        "                names = 'class',\n",
        "                title = 'Total Success Launches for Site &#8608; '+site_dropdown,\n",
        "            )\n",
        "    return fig\n",
        "\n",
        "# TASK 4:\n",
        "# Add a callback function for `site-dropdown` and `payload-slider` as inputs, `success-payload-scatter-chart` as output\n",
        "@app.callback(\n",
        "     Output(component_id = 'success-payload-scatter-chart', component_property = 'figure'),\n",
        "     [Input(component_id = 'site-dropdown', component_property = 'value'),\n",
        "     Input(component_id = \"payload_slider\", component_property = \"value\")]\n",
        ")\n",
        "def update_scattergraph(site_dropdown,payload_slider):\n",
        "    if (site_dropdown == 'All Sites' or site_dropdown == 'None'):\n",
        "        low, high = payload_slider\n",
        "        data  = spacex_df\n",
        "        inrange = (data['Payload Mass (kg)'] > low) & (data['Payload Mass (kg)'] < high)\n",
        "        fig = px.scatter(\n",
        "                data[inrange],\n",
        "                x = \"Payload Mass (kg)\",\n",
        "                y = \"class\",\n",
        "                title = 'Correlation Between Payload and Success for All Sites',\n",
        "                color=\"Booster Version Category\",\n",
        "                size='Payload Mass (kg)',\n",
        "                hover_data=['Payload Mass (kg)']\n",
        "            )\n",
        "    else:\n",
        "        low, high = payload_slider\n",
        "        data  = spacex_df.loc[spacex_df['Launch Site'] == site_dropdown]\n",
        "        inrange = (data['Payload Mass (kg)'] > low) & (data['Payload Mass (kg)'] < high)\n",
        "        fig = px.scatter(\n",
        "                data[inrange],\n",
        "                x = \"Payload Mass (kg)\",\n",
        "                y = \"class\",\n",
        "                title = 'Correlation Between Payload and Success for Site &#8608; '+site_dropdown,\n",
        "                color=\"Booster Version Category\",\n",
        "                size='Payload Mass (kg)',\n",
        "                hover_data=['Payload Mass (kg)']\n",
        "            )\n",
        "    return fig\n",
        "\n",
        "# Run the app\n",
        "if __name__ == '__main__':\n",
        "    app.run_server()"
      ],
      "metadata": {
        "id": "h9ithZIi_Sp7",
        "outputId": "a79c0e19-3e87-4c95-d22f-99114b4815ee",
        "colab": {
          "base_uri": "https://localhost:8080/",
          "height": 671
        }
      },
      "execution_count": null,
      "outputs": [
        {
          "output_type": "display_data",
          "data": {
            "text/plain": [
              "<IPython.core.display.Javascript object>"
            ],
            "application/javascript": [
              "(async (port, path, width, height, cache, element) => {\n",
              "    if (!google.colab.kernel.accessAllowed && !cache) {\n",
              "      return;\n",
              "    }\n",
              "    element.appendChild(document.createTextNode(''));\n",
              "    const url = await google.colab.kernel.proxyPort(port, {cache});\n",
              "    const iframe = document.createElement('iframe');\n",
              "    iframe.src = new URL(path, url).toString();\n",
              "    iframe.height = height;\n",
              "    iframe.width = width;\n",
              "    iframe.style.border = 0;\n",
              "    iframe.allow = [\n",
              "        'accelerometer',\n",
              "        'autoplay',\n",
              "        'camera',\n",
              "        'clipboard-read',\n",
              "        'clipboard-write',\n",
              "        'gyroscope',\n",
              "        'magnetometer',\n",
              "        'microphone',\n",
              "        'serial',\n",
              "        'usb',\n",
              "        'xr-spatial-tracking',\n",
              "    ].join('; ');\n",
              "    element.appendChild(iframe);\n",
              "  })(8050, \"/\", \"100%\", 650, false, window.element)"
            ]
          },
          "metadata": {}
        }
      ]
    }
  ]
}